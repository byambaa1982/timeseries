{
  "nbformat": 4,
  "nbformat_minor": 0,
  "metadata": {
    "colab": {
      "name": "codealong.ipynb",
      "provenance": [],
      "collapsed_sections": [],
      "include_colab_link": true
    },
    "kernelspec": {
      "name": "python3",
      "display_name": "Python 3"
    }
  },
  "cells": [
    {
      "cell_type": "markdown",
      "metadata": {
        "id": "view-in-github",
        "colab_type": "text"
      },
      "source": [
        "<a href=\"https://colab.research.google.com/github/byambaa1982/timeseries/blob/master/codealong.ipynb\" target=\"_parent\"><img src=\"https://colab.research.google.com/assets/colab-badge.svg\" alt=\"Open In Colab\"/></a>"
      ]
    },
    {
      "cell_type": "code",
      "metadata": {
        "id": "7ts2QZNpfScb",
        "colab_type": "code",
        "colab": {
          "base_uri": "https://localhost:8080/",
          "height": 34
        },
        "outputId": "0686074e-13b6-41a0-b59f-d481e6cadcab"
      },
      "source": [
        "import pandas as pd\n",
        "import pandas_datareader.data as web\n",
        "from datetime import datetime\n",
        "import matplotlib.pyplot as plt\n",
        "from sklearn.model_selection import cross_val_score, cross_val_predict\n",
        "from sklearn.ensemble import RandomForestRegressor\n",
        "from sklearn.linear_model import BayesianRidge\n",
        "from sklearn.metrics import r2_score\n",
        "import numpy as np\n",
        "from matplotlib import pyplot\n",
        "from sklearn.model_selection import TimeSeriesSplit\n",
        "from sklearn.metrics import mean_squared_error\n",
        "\n",
        "# Models I've used here \n",
        "\n",
        "from sklearn.ensemble import RandomForestRegressor\n",
        "from sklearn.linear_model import BayesianRidge\n",
        "from sklearn.ensemble import AdaBoostRegressor\n",
        "from keras.models import Sequential\n",
        "from keras.layers import Dense\n",
        "from keras.layers import LSTM\n",
        "\n",
        "%matplotlib inline"
      ],
      "execution_count": 2,
      "outputs": [
        {
          "output_type": "stream",
          "text": [
            "Using TensorFlow backend.\n"
          ],
          "name": "stderr"
        }
      ]
    },
    {
      "cell_type": "code",
      "metadata": {
        "id": "3t4GAAsoQfDN",
        "colab_type": "code",
        "colab": {}
      },
      "source": [
        "# plt.figure(figsize=(15,9))\n",
        "# plt.plot(df['Temperature'])\n",
        "# plt.plot(df['Temperature'].rolling(10).mean())"
      ],
      "execution_count": 0,
      "outputs": []
    },
    {
      "cell_type": "code",
      "metadata": {
        "id": "EIU27YL7RK2Z",
        "colab_type": "code",
        "colab": {}
      },
      "source": [
        "# plt.figure(figsize=(15,9))\n",
        "# plt.plot(df['Temperature'])\n",
        "# plt.plot(df['Temperature'].rolling(30).mean())"
      ],
      "execution_count": 0,
      "outputs": []
    },
    {
      "cell_type": "markdown",
      "metadata": {
        "id": "MO3kaaWweJeE",
        "colab_type": "text"
      },
      "source": [
        "## Backtest Machine Learning Models for Time Series Forecasting"
      ]
    },
    {
      "cell_type": "code",
      "metadata": {
        "id": "7rkSoQW2ek1r",
        "colab_type": "code",
        "colab": {}
      },
      "source": [
        "# pyplot.plot([i for i in train.Temperature])\n",
        "# pyplot.plot([None for i in train.Temperature] + [x for x in test.Temperature])\n",
        "# plt.title('train test split')\n",
        "# plt.xlabel('Number of observations')\n",
        "# plt.ylabel('Temperature')\n",
        "# pyplot.show()"
      ],
      "execution_count": 0,
      "outputs": []
    },
    {
      "cell_type": "code",
      "metadata": {
        "id": "6bfqGoxhh3qJ",
        "colab_type": "code",
        "colab": {}
      },
      "source": [
        "df=pd.read_csv('/content/tmdata.csv')"
      ],
      "execution_count": 0,
      "outputs": []
    },
    {
      "cell_type": "code",
      "metadata": {
        "id": "-fS3Qy-Jb4EE",
        "colab_type": "code",
        "colab": {}
      },
      "source": [
        "# transform list into supervised learning format\n",
        "def series_to_supervised(data):\n",
        "  df = pd.read_csv(data)\n",
        "  df['time'] = pd.to_datetime(df['time'])\n",
        "\n",
        "  #shift target variable 5 minutes back \n",
        "  #in order to train model to predict 5 minutes into future\n",
        "  n=5 # 5 minutes\n",
        "  df['Temp-1'] = df['Temperature'].shift(-int(n/5))\n",
        "  df = df.dropna()\n",
        "\n",
        "  #make numpy arrays\n",
        "  x = np.array(df[['Temperature', 'humidity']])\n",
        "  y = np.array(df['Temp-1']).reshape(-1,1)\n",
        "  return x,y"
      ],
      "execution_count": 0,
      "outputs": []
    },
    {
      "cell_type": "code",
      "metadata": {
        "id": "MW13uJ5iqjtW",
        "colab_type": "code",
        "colab": {}
      },
      "source": [
        "#custom backtest function\n",
        "def backtest(n_days, model):\n",
        "    x,y =series_to_supervised(data)\n",
        "    predictions = []\n",
        "    true_values = []\n",
        "    for i in reversed(range(1, n_days)):\n",
        "        x_train = x[:len(x)-i]\n",
        "        y_train = y[:len(y)-i].ravel()\n",
        "        x_test = x[len(x)-i]\n",
        "        y_test = y[len(y)-i].ravel()\n",
        "        model = model\n",
        "        model.fit(x_train, y_train)\n",
        "        predictions.append(model.predict([x_test])[0])\n",
        "        true_values.append(y_test[0])\n",
        "    return true_values, predictions"
      ],
      "execution_count": 0,
      "outputs": []
    },
    {
      "cell_type": "code",
      "metadata": {
        "id": "bTMIipuUTzzz",
        "colab_type": "code",
        "colab": {}
      },
      "source": [
        "# root mean squared error or rmse\n",
        "def measure_rmse(true_values, predictions):\n",
        "\treturn np.sqrt(mean_squared_error(true_values, predictions))"
      ],
      "execution_count": 0,
      "outputs": []
    },
    {
      "cell_type": "code",
      "metadata": {
        "id": "yYVuzumIT5nY",
        "colab_type": "code",
        "colab": {}
      },
      "source": [
        "backtest(n_days, model)\n",
        "measure_rmse()"
      ],
      "execution_count": 0,
      "outputs": []
    },
    {
      "cell_type": "code",
      "metadata": {
        "id": "zVVjw5LSvFeL",
        "colab_type": "code",
        "colab": {}
      },
      "source": [
        "br=BayesianRidge()\n",
        "rf=RandomForestRegressor(n_estimators=1000,\n",
        "                               n_jobs=-1,\n",
        "                                random_state=0)\n",
        "ada=AdaBoostRegressor()"
      ],
      "execution_count": 0,
      "outputs": []
    },
    {
      "cell_type": "markdown",
      "metadata": {
        "id": "qCCSo2tAqPFp",
        "colab_type": "text"
      },
      "source": [
        "##Bayesian Ridge linear regressor"
      ]
    },
    {
      "cell_type": "code",
      "metadata": {
        "id": "BKL4WVZcprgZ",
        "colab_type": "code",
        "colab": {}
      },
      "source": [
        "true_values=backtest(20,br)[0]\n",
        "predictions=backtest(20,br)[1]"
      ],
      "execution_count": 0,
      "outputs": []
    },
    {
      "cell_type": "code",
      "metadata": {
        "id": "E6_NR91FUQwX",
        "colab_type": "code",
        "colab": {
          "base_uri": "https://localhost:8080/",
          "height": 34
        },
        "outputId": "d1528116-a8a4-4be8-c3be-8554a806c7b3"
      },
      "source": [
        "measure_rmse(true_values, predictions)"
      ],
      "execution_count": 126,
      "outputs": [
        {
          "output_type": "execute_result",
          "data": {
            "text/plain": [
              "0.05187151054766359"
            ]
          },
          "metadata": {
            "tags": []
          },
          "execution_count": 126
        }
      ]
    },
    {
      "cell_type": "code",
      "metadata": {
        "id": "CusMhF-hwGXQ",
        "colab_type": "code",
        "outputId": "56d8fdd0-c208-446c-c314-8b119b1496ef",
        "colab": {
          "base_uri": "https://localhost:8080/",
          "height": 312
        }
      },
      "source": [
        "# pyplot.plot([i for i in y[8600:8615]])\n",
        "pyplot.plot([None for i in y] + [x for x in true_values])\n",
        "pyplot.plot([None for i in y] + [x for x in predictions])\n",
        "plt.title('True and Predicted Values')\n",
        "plt.xlabel('Number of observations')\n",
        "plt.ylabel('Temperature')\n",
        "plt.legend()\n",
        "pyplot.show()"
      ],
      "execution_count": 120,
      "outputs": [
        {
          "output_type": "stream",
          "text": [
            "No handles with labels found to put in legend.\n"
          ],
          "name": "stderr"
        },
        {
          "output_type": "display_data",
          "data": {
            "image/png": "[encoded data removed]",
            "text/plain": [
              "<Figure size 432x288 with 1 Axes>"
            ]
          },
          "metadata": {
            "tags": []
          }
        }
      ]
    },
    {
      "cell_type": "code",
      "metadata": {
        "id": "AVa4U7HZvTxA",
        "colab_type": "code",
        "outputId": "9d7636a0-5c7c-4afa-8e3f-6c3ebab99a66",
        "colab": {
          "base_uri": "https://localhost:8080/",
          "height": 555
        }
      },
      "source": [
        "true_values=backtest(20,br)[0]\n",
        "predictions=backtest(20,br)[1]\n",
        "plt.figure(figsize=(15,9))\n",
        "plt.scatter(true_values, predictions)\n",
        "plt.xlabel('True Values [T]')\n",
        "plt.ylabel('Predictions [T]')\n",
        "# plt.axis('equal')\n",
        "plt.axis('square')\n",
        "plt.xlim([25.4,plt.xlim()[1]])\n",
        "plt.ylim([25.4,plt.ylim()[1]])\n",
        "_ = plt.plot([0, 310], [0, 310])"
      ],
      "execution_count": 121,
      "outputs": [
        {
          "output_type": "display_data",
          "data": {
            "image/png": "[encoded data removed]",
            "text/plain": [
              "<Figure size 1080x648 with 1 Axes>"
            ]
          },
          "metadata": {
            "tags": []
          }
        }
      ]
    },
    {
      "cell_type": "markdown",
      "metadata": {
        "id": "kqVeeJjjU4-I",
        "colab_type": "text"
      },
      "source": [
        "## GridSearch on Bayesian Ridge"
      ]
    },
    {
      "cell_type": "code",
      "metadata": {
        "id": "tyq4B2TraX-z",
        "colab_type": "code",
        "colab": {}
      },
      "source": [
        "# define dataset\n",
        "series = read_csv('/tmdata', header=0, index_col=0)\n",
        "data = series.values\n",
        "# data split\n",
        "n_test = 12\n",
        "# model configs\n",
        "cfg_list = model_configs()\n",
        "# grid search\n",
        "scores = grid_search(data, cfg_list, n_test)\n",
        "print('done')\n",
        "# list top 10 configs\n",
        "for cfg, error in scores[:3]:\n",
        "\tprint(cfg, error)"
      ],
      "execution_count": 0,
      "outputs": []
    },
    {
      "cell_type": "markdown",
      "metadata": {
        "id": "B-buI6laqYDF",
        "colab_type": "text"
      },
      "source": [
        "## RandomForest Regressor"
      ]
    },
    {
      "cell_type": "code",
      "metadata": {
        "id": "P_MTCNr9p2gE",
        "colab_type": "code",
        "outputId": "0ff4b9d1-dccb-460a-fd9a-c71880f78ec1",
        "colab": {
          "base_uri": "https://localhost:8080/",
          "height": 312
        }
      },
      "source": [
        "true_values=backtest(20,rf)[0]\n",
        "predictions=backtest(20,rf)[1]\n",
        "# pyplot.plot([i for i in y[8600:8615]])\n",
        "pyplot.plot([None for i in y] + [x for x in true_values])\n",
        "pyplot.plot([None for i in y] + [x for x in predictions])\n",
        "plt.title('True and Predicted Values')\n",
        "plt.xlabel('Number of observations')\n",
        "plt.ylabel('Temperature')\n",
        "plt.legend()\n",
        "pyplot.show()"
      ],
      "execution_count": 132,
      "outputs": [
        {
          "output_type": "stream",
          "text": [
            "No handles with labels found to put in legend.\n"
          ],
          "name": "stderr"
        },
        {
          "output_type": "display_data",
          "data": {
            "image/png": "[encoded data removed]",
            "text/plain": [
              "<Figure size 432x288 with 1 Axes>"
            ]
          },
          "metadata": {
            "tags": []
          }
        }
      ]
    },
    {
      "cell_type": "code",
      "metadata": {
        "id": "uIxQPpZkv0sQ",
        "colab_type": "code",
        "outputId": "41fa43d3-dd32-48e2-d031-5da042fa4655",
        "colab": {
          "base_uri": "https://localhost:8080/",
          "height": 555
        }
      },
      "source": [
        "# true_values=backtest(20,rf)[0]\n",
        "# predictions=backtest(20,rf)[1]\n",
        "plt.figure(figsize=(15,9))\n",
        "plt.scatter(true_values, predictions)\n",
        "plt.xlabel('True Values [T]')\n",
        "plt.ylabel('Predictions [T]')\n",
        "# plt.axis('equal')\n",
        "plt.axis('square')\n",
        "plt.xlim([25.4,plt.xlim()[1]])\n",
        "plt.ylim([25.4,plt.ylim()[1]])\n",
        "_ = plt.plot([0, 310], [0, 310])"
      ],
      "execution_count": 133,
      "outputs": [
        {
          "output_type": "display_data",
          "data": {
            "image/png": "[encoded data removed]",
            "text/plain": [
              "<Figure size 1080x648 with 1 Axes>"
            ]
          },
          "metadata": {
            "tags": []
          }
        }
      ]
    },
    {
      "cell_type": "markdown",
      "metadata": {
        "id": "lkCQcu-zqdIH",
        "colab_type": "text"
      },
      "source": [
        "## AdaBoost Regressor"
      ]
    },
    {
      "cell_type": "code",
      "metadata": {
        "id": "kSSydDszqEss",
        "colab_type": "code",
        "outputId": "3c7c4b1b-99a0-4d44-a744-f24b3d784f17",
        "colab": {
          "base_uri": "https://localhost:8080/",
          "height": 312
        }
      },
      "source": [
        "true_values=backtest(20,ada)[0]\n",
        "predictions=backtest(20,ada)[1]\n",
        "# pyplot.plot([i for i in y[8600:8615]])\n",
        "pyplot.plot([None for i in y] + [x for x in true_values])\n",
        "pyplot.plot([None for i in y] + [x for x in predictions])\n",
        "plt.title('True and Predicted Values')\n",
        "plt.xlabel('Number of observations')\n",
        "plt.ylabel('Temperature')\n",
        "plt.legend()\n",
        "pyplot.show()"
      ],
      "execution_count": 0,
      "outputs": [
        {
          "output_type": "stream",
          "text": [
            "No handles with labels found to put in legend.\n"
          ],
          "name": "stderr"
        },
        {
          "output_type": "display_data",
          "data": {
            "image/png": "[encoded data removed]",
            "text/plain": [
              "<Figure size 432x288 with 1 Axes>"
            ]
          },
          "metadata": {
            "tags": []
          }
        }
      ]
    },
    {
      "cell_type": "code",
      "metadata": {
        "id": "U7jN58cCv9BF",
        "colab_type": "code",
        "outputId": "790a9a6c-7ef8-4ef1-f4c5-d8fa6e893a28",
        "colab": {
          "base_uri": "https://localhost:8080/",
          "height": 555
        }
      },
      "source": [
        "true_values=backtest(20,ada)[0]\n",
        "predictions=backtest(20,ada)[1]\n",
        "plt.figure(figsize=(15,9))\n",
        "plt.scatter(true_values, predictions)\n",
        "plt.xlabel('True Values [T]')\n",
        "plt.ylabel('Predictions [T]')\n",
        "# plt.axis('equal')\n",
        "plt.axis('square')\n",
        "plt.xlim([25.4,plt.xlim()[1]])\n",
        "plt.ylim([25.4,plt.ylim()[1]])\n",
        "_ = plt.plot([0, 310], [0, 310])"
      ],
      "execution_count": 0,
      "outputs": [
        {
          "output_type": "display_data",
          "data": {
            "image/png": "[encoded data removed]",
            "text/plain": [
              "<Figure size 1080x648 with 1 Axes>"
            ]
          },
          "metadata": {
            "tags": []
          }
        }
      ]
    },
    {
      "cell_type": "code",
      "metadata": {
        "id": "iVBkBRj8VZdc",
        "colab_type": "code",
        "outputId": "35e9c704-283e-4b65-ddb1-dde921885a34",
        "colab": {
          "base_uri": "https://localhost:8080/",
          "height": 51
        }
      },
      "source": [
        "# Performance metrics\n",
        "errors = abs(df_chart.pred - df_chart.true)\n",
        "print('Average absolute error:', round(np.mean(errors), 2), 'degrees.')\n",
        "# Calculate mean absolute percentage error (MAPE)\n",
        "mape = 100 * (errors / df_chart.true)\n",
        "# Calculate and display accuracy\n",
        "accuracy = 100 - np.mean(mape)\n",
        "print('Accuracy:', round(accuracy, 2), '%.')"
      ],
      "execution_count": 0,
      "outputs": [
        {
          "output_type": "stream",
          "text": [
            "Average absolute error: 0.06 degrees.\n",
            "Accuracy: 99.75 %.\n"
          ],
          "name": "stdout"
        }
      ]
    },
    {
      "cell_type": "markdown",
      "metadata": {
        "id": "zbLYcj-8w1I7",
        "colab_type": "text"
      },
      "source": [
        "## Accuracies and Average Absolute Errors for each model"
      ]
    },
    {
      "cell_type": "code",
      "metadata": {
        "id": "tL4tNBWZlJHX",
        "colab_type": "code",
        "colab": {}
      },
      "source": [
        "def accuracy_cal(n, model):\n",
        "  true_values=backtest(20, model)[0]\n",
        "  predictions=backtest(20, model)[1]\n",
        "  both={'true':true_values,'pred':predictions}\n",
        "  df_chart=pd.DataFrame.from_dict(both)\n",
        "  errors = abs(df_chart.pred - df_chart.true)\n",
        "  mape = 100 * (errors / df_chart.true)\n",
        "  accuracy = 100 - np.mean(mape)\n",
        "  \n",
        "  print('Average absolute error:', round(np.mean(errors), 2), 'degrees.')\n",
        "  print('Accuracy:', round(accuracy, 2), '%.')"
      ],
      "execution_count": 0,
      "outputs": []
    },
    {
      "cell_type": "code",
      "metadata": {
        "id": "C5Fjpu3Ul3nD",
        "colab_type": "code",
        "outputId": "cdaaee48-fbbb-4084-ed4a-cb4dabc5737e",
        "colab": {
          "base_uri": "https://localhost:8080/",
          "height": 51
        }
      },
      "source": [
        "accuracy_cal(20, ada)"
      ],
      "execution_count": 0,
      "outputs": [
        {
          "output_type": "stream",
          "text": [
            "Average absolute error: 0.09 degrees.\n",
            "Accuracy: 99.66 %.\n"
          ],
          "name": "stdout"
        }
      ]
    },
    {
      "cell_type": "code",
      "metadata": {
        "id": "Wl4asiPwmz_Q",
        "colab_type": "code",
        "outputId": "1c58889d-1d13-457a-f64e-67a332b0062d",
        "colab": {
          "base_uri": "https://localhost:8080/",
          "height": 51
        }
      },
      "source": [
        "accuracy_cal(20, br)"
      ],
      "execution_count": 0,
      "outputs": [
        {
          "output_type": "stream",
          "text": [
            "Average absolute error: 0.06 degrees.\n",
            "Accuracy: 99.75 %.\n"
          ],
          "name": "stdout"
        }
      ]
    },
    {
      "cell_type": "code",
      "metadata": {
        "id": "V-ufq2J1m5pQ",
        "colab_type": "code",
        "outputId": "0ef2a5de-b3f0-4f1c-e9f9-664dfe1abc5b",
        "colab": {
          "base_uri": "https://localhost:8080/",
          "height": 51
        }
      },
      "source": [
        "accuracy_cal(20, rf)"
      ],
      "execution_count": 136,
      "outputs": [
        {
          "output_type": "stream",
          "text": [
            "Average absolute error: 0.05 degrees.\n",
            "Accuracy: 99.8 %.\n"
          ],
          "name": "stdout"
        }
      ]
    },
    {
      "cell_type": "markdown",
      "metadata": {
        "id": "sP9vzwL1kZQM",
        "colab_type": "text"
      },
      "source": [
        "# Sliding Window or Walk Forward Validation"
      ]
    },
    {
      "cell_type": "code",
      "metadata": {
        "id": "5Zj7CSrFIySB",
        "colab_type": "code",
        "colab": {}
      },
      "source": [
        "df = pd.read_csv('/tmdata.csv')\n",
        "df['time'] = pd.to_datetime(df['time'])\n",
        "\n",
        "#shift target variable 5 minutes back \n",
        "#in order to train model to predict 5 minutes into future\n",
        "n=5 # 5 minutes\n",
        "df['Temp-1'] = df['Temperature'].shift(-int(n/5))\n",
        "df = df.dropna()\n",
        "\n",
        "#make numpy arrays\n",
        "x = np.array(df[['Temperature', 'humidity']])\n",
        "y = np.array(df['Temp-1']).reshape(-1,1)"
      ],
      "execution_count": 0,
      "outputs": []
    },
    {
      "cell_type": "code",
      "metadata": {
        "id": "VuJgjsA_Y2iy",
        "colab_type": "code",
        "colab": {}
      },
      "source": [
        "df=pd.read_csv('/content/tmdata.csv')"
      ],
      "execution_count": 0,
      "outputs": []
    },
    {
      "cell_type": "code",
      "metadata": {
        "id": "UW9Bhfo2YrCk",
        "colab_type": "code",
        "colab": {}
      },
      "source": [
        "def series_to_supervised(df):\n",
        "  df['time'] = pd.to_datetime(df['time'])\n",
        "\n",
        "  #shift target variable 5 minutes back \n",
        "  #in order to train model to predict 5 minutes into future\n",
        "  n=5 # 5 minutes\n",
        "  df['Temp-1'] = df['Temperature'].shift(-int(n/5))\n",
        "  df = df.dropna()\n",
        "\n",
        "  #make numpy arrays\n",
        "  x = np.array(df[['Temperature', 'humidity']])\n",
        "  y = np.array(df['Temp-1']).reshape(-1,1)\n",
        "  return x,y"
      ],
      "execution_count": 0,
      "outputs": []
    },
    {
      "cell_type": "code",
      "metadata": {
        "id": "upazDYnwGv1O",
        "colab_type": "code",
        "colab": {}
      },
      "source": [
        "#custom backtest function\n",
        "def walk_forward_validation(n_records, model):\n",
        "    predictions = []\n",
        "    true_values = []\n",
        "    x,y= series_to_supervised(df)\n",
        "    for i in reversed(range(n_records, len(x))):\n",
        "        x_train = x[0:i]\n",
        "        y_train = y[0:i].ravel()\n",
        "        x_test = x[i:i+1]\n",
        "        y_test = y[i:i+1].ravel()\n",
        "        model = model\n",
        "        model.fit(x_train, y_train)\n",
        "        predictions.append(model.predict([x_test][0]))\n",
        "        true_values.append(y_test[0])\n",
        "    return true_values, predictions"
      ],
      "execution_count": 0,
      "outputs": []
    },
    {
      "cell_type": "code",
      "metadata": {
        "id": "KVkMFjOAUPJa",
        "colab_type": "code",
        "colab": {}
      },
      "source": [
        "true_values=walk_forward_validation(8590,br)[0]\n",
        "predictions=walk_forward_validation(8590,br)[1]"
      ],
      "execution_count": 0,
      "outputs": []
    },
    {
      "cell_type": "code",
      "metadata": {
        "id": "tTYRh16pJB0V",
        "colab_type": "code",
        "colab": {}
      },
      "source": [
        "def plotting(true_values,predictions):\n",
        "  x,y= series_to_supervised(df)\n",
        "  pyplot.plot([None for i in y] + [x for x in true_values])\n",
        "  pyplot.plot([None for i in y] + [x for x in predictions])\n",
        "  plt.title('True and Predicted Values')\n",
        "  plt.xlabel('Number of observations')\n",
        "  plt.ylabel('Temperature')\n",
        "  plt.legend()\n",
        "  pyplot.show()"
      ],
      "execution_count": 0,
      "outputs": []
    },
    {
      "cell_type": "code",
      "metadata": {
        "id": "4-Dyazn_Ztdu",
        "colab_type": "code",
        "colab": {}
      },
      "source": [
        "def accuracy_cal(n, model):\n",
        "  true_values=walk_forward_validation(n,br)[0]\n",
        "  predictions=walk_forward_validation(n,br)[1]\n",
        "  both={'true':true_values,'pred':predictions}\n",
        "  df_chart=pd.DataFrame.from_dict(both)\n",
        "  errors = abs(df_chart.pred - df_chart.true)\n",
        "  mape = 100 * (errors / df_chart.true)\n",
        "  accuracy = 100 - np.mean(mape)\n",
        "  \n",
        "  print('Average absolute error:',np.mean(errors))\n",
        "  print('Accuracy:', accuracy)"
      ],
      "execution_count": 0,
      "outputs": []
    },
    {
      "cell_type": "code",
      "metadata": {
        "id": "jc3hAcmDZ88h",
        "colab_type": "code",
        "colab": {
          "base_uri": "https://localhost:8080/",
          "height": 51
        },
        "outputId": "ca14bd6e-d1a6-49e8-97f8-7b5d0941baad"
      },
      "source": [
        "accuracy_cal(8590, br)"
      ],
      "execution_count": 67,
      "outputs": [
        {
          "output_type": "stream",
          "text": [
            "Average absolute error: [0.03466126]\n",
            "Accuracy: [99.86593534]\n"
          ],
          "name": "stdout"
        }
      ]
    },
    {
      "cell_type": "markdown",
      "metadata": {
        "id": "JKwRRX66faM3",
        "colab_type": "text"
      },
      "source": [
        "# Generalize model"
      ]
    },
    {
      "cell_type": "code",
      "metadata": {
        "id": "NnPgayaTC5uc",
        "colab_type": "code",
        "colab": {}
      },
      "source": [
        "# grid search persistence models for airline passengers\n",
        "from math import sqrt\n",
        "from numpy import mean\n",
        "from pandas import read_csv\n",
        "from sklearn.metrics import mean_squared_error"
      ],
      "execution_count": 0,
      "outputs": []
    },
    {
      "cell_type": "code",
      "metadata": {
        "id": "YPzYYdjxUw7t",
        "colab_type": "code",
        "colab": {}
      },
      "source": [
        "# split a univariate dataset into train/test sets\n",
        "def train_test_split(data, n_test):\n",
        "\treturn data[:-n_test], data[-n_test:]"
      ],
      "execution_count": 0,
      "outputs": []
    },
    {
      "cell_type": "code",
      "metadata": {
        "id": "Km8fl58THLBN",
        "colab_type": "code",
        "colab": {}
      },
      "source": [
        "# transform list into supervised learning format\n",
        "def series_to_supervised(data):\n",
        "  data['time'] = pd.to_datetime(data['time'])\n",
        "\n",
        "  #shift target variable 5 minutes back \n",
        "  #in order to train model to predict 5 minutes into future\n",
        "  n=5 # 5 minutes\n",
        "  data['Temp-1'] = data['Temperature'].shift(-int(n/5))\n",
        "  data = data.dropna()\n",
        "\n",
        "  #make numpy arrays\n",
        "  x = np.array(data[['Temperature', 'humidity']])\n",
        "  y = np.array(data['Temp-1']).reshape(-1,1)\n",
        "  return x,y"
      ],
      "execution_count": 0,
      "outputs": []
    },
    {
      "cell_type": "code",
      "metadata": {
        "id": "cUVu2tVNVT58",
        "colab_type": "code",
        "colab": {}
      },
      "source": [
        "\n",
        " # root mean squared error or rmse\n",
        "def measure_rmse(actual, predicted):\n",
        "\treturn sqrt(mean_squared_error(actual, predicted))"
      ],
      "execution_count": 0,
      "outputs": []
    },
    {
      "cell_type": "code",
      "metadata": {
        "id": "R6qQuDQbVPjQ",
        "colab_type": "code",
        "colab": {}
      },
      "source": [
        "# difference dataset\n",
        "def difference(data, order):\n",
        "\treturn [data[i] - data[i - order] for i in range(order, len(data))]"
      ],
      "execution_count": 0,
      "outputs": []
    },
    {
      "cell_type": "code",
      "metadata": {
        "id": "lWWNoGcWVfbd",
        "colab_type": "code",
        "colab": {}
      },
      "source": [
        "# fit a model\n",
        "def model_fit(train, config):\n",
        "\t# unpack config\n",
        "\tn_input = config\n",
        "\t# prepare data\n",
        "\tif n_diff > 0:\n",
        "\t\ttrain = difference(train, n_diff)\n",
        "\t# transform series into supervised format\n",
        "\tdata = series_to_supervised(train, n_input)\n",
        "\t# separate inputs and outputs\n",
        "\ttrain_x, train_y = data[['Temperature', 'humidity']], data['Temp-1']\n",
        "\t# define model\n",
        "\tmodel = BayesianRidge()\n",
        "\t# fit model\n",
        "\tmodel.fit(train_x, train_y)\n",
        "\treturn model"
      ],
      "execution_count": 0,
      "outputs": []
    },
    {
      "cell_type": "code",
      "metadata": {
        "id": "R-y-7eWmwBzJ",
        "colab_type": "code",
        "colab": {}
      },
      "source": [
        "n_diff=0"
      ],
      "execution_count": 0,
      "outputs": []
    },
    {
      "cell_type": "code",
      "metadata": {
        "id": "ZiqIt9qOXVho",
        "colab_type": "code",
        "colab": {}
      },
      "source": [
        "# forecast with the fit model\n",
        "def model_predict(model, history, config):\n",
        "\t# unpack config\n",
        "\tn_input = config\n",
        "\t# prepare data\n",
        "\tcorrection = 0.0\n",
        "\tif n_diff > 0:\n",
        "\t\tcorrection = history[-n_diff]\n",
        "\t\thistory = difference(history, n_diff)\n",
        "\t# shape input for model\n",
        "\tx_input = np.array(history[-n_input:]).reshape((1, n_input))\n",
        "\t# make forecast\n",
        "\tyhat = model.predict(x_input, verbose=0)\n",
        "\t# correct forecast if it was differenced\n",
        "\treturn correction + yhat[0]"
      ],
      "execution_count": 0,
      "outputs": []
    },
    {
      "cell_type": "code",
      "metadata": {
        "id": "Ruqdcg_hgYJ0",
        "colab_type": "code",
        "colab": {}
      },
      "source": [
        "\n",
        "# walk-forward validation for univariate data\n",
        "def walk_forward_validation(data, n_test, cfg):\n",
        "  x,y=series_to_supervised(data)\n",
        "  predictions = list()\n",
        "  # split dataset\n",
        "  train, test = train_test_split(data, n_test)\n",
        "  # fit model\n",
        "  model = model_fit(train, cfg)\n",
        "  # seed history with training dataset\n",
        "  history = [x for x in train]\n",
        "  # step over each time-step in the test set\n",
        "  for i in range(len(test)):\n",
        "    # fit model and make forecast for history\n",
        "    yhat = model_predict(model)\n",
        "    # store forecast in list of predictions\n",
        "    predictions.append(yhat)\n",
        "    # add actual observation to history for the next loop\n",
        "    history.append(test[i])\n",
        "  # estimate prediction error\n",
        "  error = measure_rmse(test, predictions)\n",
        "  print(' > %.3f' % error)\n",
        "  return error\n",
        "\n",
        "# walk-forward validation for univariate data\n",
        "def walk_forward_validation(data, n_test, cfg):\n",
        "\tpredictions = list()\n",
        "\t# split dataset\n",
        "\ttrain, test = train_test_split(data, n_test)\n",
        "\t# fit model\n",
        "\tmodel = model_fit(train, cfg)\n",
        "\t# seed history with training dataset\n",
        "\thistory = [x for x in train]\n",
        "\t# step over each time-step in the test set\n",
        "\tfor i in range(len(test)):\n",
        "\t\t# fit model and make forecast for history\n",
        "\t\tyhat = model_predict(model, history, cfg)\n",
        "\t\t# store forecast in list of predictions\n",
        "\t\tpredictions.append(yhat)\n",
        "\t\t# add actual observation to history for the next loop\n",
        "\t\thistory.append(test[i])\n",
        "\t# estimate prediction error\n",
        "\terror = measure_rmse(test, predictions)\n",
        "\tprint(' > %.3f' % error)\n",
        "\treturn error"
      ],
      "execution_count": 0,
      "outputs": []
    }
  ]
}